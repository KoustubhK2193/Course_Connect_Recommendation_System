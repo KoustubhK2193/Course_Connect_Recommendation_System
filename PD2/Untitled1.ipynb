{
 "cells": [
  {
   "cell_type": "code",
   "execution_count": 1,
   "id": "b3f8bb2a",
   "metadata": {},
   "outputs": [],
   "source": [
    "A='A'\n",
    "B='B'\n",
    "C='C'\n",
    "D='D'\n",
    "E='E'\n",
    "F='F'\n",
    "G='G'\n",
    "H='H'\n"
   ]
  },
  {
   "cell_type": "code",
   "execution_count": 2,
   "id": "3afe4595",
   "metadata": {},
   "outputs": [],
   "source": [
    "graph = {A:[B,C],B:[D,E],C:[F],D:[G,H],E:{},F:{},G:{},H:{}}"
   ]
  },
  {
   "cell_type": "code",
   "execution_count": 7,
   "id": "55978f1b",
   "metadata": {},
   "outputs": [
    {
     "data": {
      "text/plain": [
       "11"
      ]
     },
     "execution_count": 7,
     "metadata": {},
     "output_type": "execute_result"
    }
   ],
   "source": [
    "def getchild(parent):\n",
    "    return graph[parent]\n",
    "getchild(A)\n",
    "listt =[11,12,13,4,5]\n",
    "listt.pop(0)"
   ]
  },
  {
   "cell_type": "code",
   "execution_count": 16,
   "id": "56f2f787",
   "metadata": {},
   "outputs": [
    {
     "name": "stdout",
     "output_type": "stream",
     "text": [
      "now is :  A\n",
      "Child of  A  is  B\n",
      "Child of  A  is  C\n",
      "now is :  B\n",
      "Child of  B  is  D\n",
      "Child of  B  is  E\n",
      "now is :  C\n",
      "Child of  C  is  F\n",
      "now is :  B\n",
      "Child of  B  is  D\n",
      "Child of  B  is  E\n",
      "now is :  D\n",
      "Child of  D  is  G\n",
      "Child of  D  is  H\n",
      "now is :  E\n",
      "now is :  C\n",
      "Child of  C  is  F\n"
     ]
    },
    {
     "data": {
      "text/plain": [
       "['A', 'B', 'C', 'B', 'D', 'E', 'C', 'F']"
      ]
     },
     "execution_count": 16,
     "metadata": {},
     "output_type": "execute_result"
    }
   ],
   "source": [
    "def bfs(goal,start):\n",
    "    if start==goal:\n",
    "        return start\n",
    "    else:\n",
    "        openlist=[]\n",
    "        visited=[]\n",
    "        curr=start\n",
    "        while curr!=goal:\n",
    "            openlist.append(curr)\n",
    "            now=openlist.pop(0)\n",
    "            print('now is : ',now)\n",
    "            visited.append(now)\n",
    "            for a in getchild(now):\n",
    "                print('Child of ',now,' is ',a)\n",
    "                openlist.append(a)\n",
    "            curr=openlist[0]\n",
    "        visited.append(curr)\n",
    "    return visited\n",
    "bfs(F,A)"
   ]
  },
  {
   "cell_type": "code",
   "execution_count": 17,
   "id": "7cf130c1",
   "metadata": {},
   "outputs": [
    {
     "data": {
      "text/plain": [
       "['A', 'B', 'C', 'D', 'E', 'F']"
      ]
     },
     "execution_count": 17,
     "metadata": {},
     "output_type": "execute_result"
    }
   ],
   "source": [
    "def bfs2(start,goal):\n",
    "    curr=start\n",
    "    openlist=[]\n",
    "    path=[]\n",
    "    while curr!=goal:\n",
    "        path.append(curr)\n",
    "        for a in getchild(curr):\n",
    "            openlist.append(a)\n",
    "        curr=openlist.pop(0)\n",
    "    path.append(curr)\n",
    "    return path\n",
    "bfs2(A,F)\n",
    "        "
   ]
  },
  {
   "cell_type": "code",
   "execution_count": null,
   "id": "9932b01d",
   "metadata": {},
   "outputs": [],
   "source": [
    "def dls(start,goal,depth,path):\n",
    "    if depth==0:\n",
    "        return path\n",
    "    elif start==goal:\n",
    "        return path.append(start)\n",
    "    else:\n",
    "         \n",
    "        "
   ]
  },
  {
   "cell_type": "code",
   "execution_count": 19,
   "id": "b4738618",
   "metadata": {},
   "outputs": [
    {
     "data": {
      "text/plain": [
       "['A', 'C', 'F']"
      ]
     },
     "execution_count": 19,
     "metadata": {},
     "output_type": "execute_result"
    }
   ],
   "source": [
    "def depth_limited_search(node, goal, depth_limit, path=[]):\n",
    "    if node == goal:\n",
    "        path.append(node)\n",
    "        return path\n",
    "    elif depth_limit == 0:\n",
    "        return None\n",
    "    else:\n",
    "        for child in getchild(node):\n",
    "            new_path = path + [node]\n",
    "            result = depth_limited_search(child, goal, depth_limit - 1, new_path)\n",
    "            if result:\n",
    "                return result\n",
    "        return None\n",
    "path=[]\n",
    "depth_limited_search(A,F,2,path)"
   ]
  },
  {
   "cell_type": "code",
   "execution_count": null,
   "id": "5b3380cd",
   "metadata": {},
   "outputs": [],
   "source": []
  }
 ],
 "metadata": {
  "kernelspec": {
   "display_name": "Python 3 (ipykernel)",
   "language": "python",
   "name": "python3"
  },
  "language_info": {
   "codemirror_mode": {
    "name": "ipython",
    "version": 3
   },
   "file_extension": ".py",
   "mimetype": "text/x-python",
   "name": "python",
   "nbconvert_exporter": "python",
   "pygments_lexer": "ipython3",
   "version": "3.10.6"
  }
 },
 "nbformat": 4,
 "nbformat_minor": 5
}
