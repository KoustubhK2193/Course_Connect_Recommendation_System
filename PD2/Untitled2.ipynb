{
 "cells": [
  {
   "cell_type": "code",
   "execution_count": 1,
   "id": "7adb0489",
   "metadata": {},
   "outputs": [],
   "source": [
    "a='a'\n",
    "b='b'\n",
    "c='c'\n",
    "d='d'\n",
    "e='e'\n",
    "f='f'\n",
    "z='z'"
   ]
  },
  {
   "cell_type": "code",
   "execution_count": 18,
   "id": "616241ff",
   "metadata": {},
   "outputs": [],
   "source": [
    "graph={a:[(b,9),(c,4),(d,7)],\n",
    "      b:[(e,11)],\n",
    "      c:[(e,17),(f,12)],\n",
    "      d:[(f,14)],\n",
    "      e:[(z,5)],\n",
    "      f:[(z,9)],\n",
    "      z:[]}"
   ]
  },
  {
   "cell_type": "raw",
   "id": "c5486881",
   "metadata": {},
   "source": []
  },
  {
   "cell_type": "code",
   "execution_count": 19,
   "id": "b2a6f49b",
   "metadata": {},
   "outputs": [],
   "source": [
    "def hur(node):\n",
    "    dic={a:21,b:14,c:18,d:18,e:5,f:8,z:0}\n",
    "    return dic[node]"
   ]
  },
  {
   "cell_type": "code",
   "execution_count": 20,
   "id": "06758992",
   "metadata": {},
   "outputs": [],
   "source": [
    "def getchild(node):\n",
    "    return graph[node]"
   ]
  },
  {
   "cell_type": "code",
   "execution_count": 25,
   "id": "fc4bb9af",
   "metadata": {},
   "outputs": [],
   "source": [
    "def astar (start,goal):\n",
    "    openlist=set([start])\n",
    "    closelist=set()\n",
    "    g={}\n",
    "    g[start]=0\n",
    "    parent={}\n",
    "    parent[start]=start\n",
    "    while len(openlist)>0:\n",
    "        n=None\n",
    "        for v in openlist:\n",
    "            if n==None or g[v]+hur(v)<g[n]+hur(n):\n",
    "                n=v\n",
    "        if n==None:\n",
    "            print('path Dosent Exist')\n",
    "            return None\n",
    "        if n==goal:\n",
    "            path=[]\n",
    "            while parent[n]!=n:\n",
    "                path.append(n)\n",
    "                n=parent[n]\n",
    "            path.append(start)\n",
    "            path.reverse()\n",
    "            print('Path Found ',path)\n",
    "            return path\n",
    "        for (m,w) in getchild(n):\n",
    "            if m not in openlist and m not in closelist:\n",
    "                openlist.add(m)\n",
    "                parent[m]=n\n",
    "#                 print('type of w is : ',type(w))\n",
    "                g[m]=g[n]+w\n",
    "            else:\n",
    "                if g[m]>g[n]+w:\n",
    "                    g[m]=g[n]+w\n",
    "                    parent[m]=n\n",
    "                    if m in closelist:\n",
    "                        closelist.remove(m)\n",
    "                        openlist.add(m)\n",
    "        openlist.remove(n)\n",
    "        closelist.add(n)"
   ]
  },
  {
   "cell_type": "code",
   "execution_count": 26,
   "id": "ff911bde",
   "metadata": {},
   "outputs": [
    {
     "name": "stdout",
     "output_type": "stream",
     "text": [
      "Path Found  ['a', 'c', 'f', 'z']\n"
     ]
    },
    {
     "data": {
      "text/plain": [
       "['a', 'c', 'f', 'z']"
      ]
     },
     "execution_count": 26,
     "metadata": {},
     "output_type": "execute_result"
    }
   ],
   "source": [
    "astar(a,z)"
   ]
  },
  {
   "cell_type": "code",
   "execution_count": null,
   "id": "397b6e2f",
   "metadata": {},
   "outputs": [],
   "source": []
  }
 ],
 "metadata": {
  "kernelspec": {
   "display_name": "Python 3 (ipykernel)",
   "language": "python",
   "name": "python3"
  },
  "language_info": {
   "codemirror_mode": {
    "name": "ipython",
    "version": 3
   },
   "file_extension": ".py",
   "mimetype": "text/x-python",
   "name": "python",
   "nbconvert_exporter": "python",
   "pygments_lexer": "ipython3",
   "version": "3.10.6"
  }
 },
 "nbformat": 4,
 "nbformat_minor": 5
}
