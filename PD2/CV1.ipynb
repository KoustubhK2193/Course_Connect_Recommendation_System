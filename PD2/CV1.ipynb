{
 "cells": [
  {
   "cell_type": "code",
   "execution_count": 1,
   "id": "1981003c",
   "metadata": {},
   "outputs": [
    {
     "data": {
      "text/plain": [
       "'3.11.4 | packaged by Anaconda, Inc. | (main, Jul  5 2023, 13:38:37) [MSC v.1916 64 bit (AMD64)]'"
      ]
     },
     "execution_count": 1,
     "metadata": {},
     "output_type": "execute_result"
    }
   ],
   "source": [
    "import sys\n",
    "sys.version"
   ]
  },
  {
   "cell_type": "code",
   "execution_count": 2,
   "id": "c03cb483",
   "metadata": {},
   "outputs": [],
   "source": [
    "import cv2"
   ]
  },
  {
   "cell_type": "code",
   "execution_count": 3,
   "id": "238c63ca",
   "metadata": {},
   "outputs": [
    {
     "name": "stdout",
     "output_type": "stream",
     "text": [
      "cv2 Version =  4.6.0\n"
     ]
    }
   ],
   "source": [
    "print(\"cv2 Version = \",cv2.__version__)"
   ]
  },
  {
   "cell_type": "code",
   "execution_count": 4,
   "id": "13f24073",
   "metadata": {},
   "outputs": [],
   "source": [
    "img_path = r\"\"\"C:\\Users\\koustubh kulkarni\\Downloads\\774779_sat_40.jpg\"\"\""
   ]
  },
  {
   "cell_type": "code",
   "execution_count": 5,
   "id": "1c3fe21d",
   "metadata": {},
   "outputs": [],
   "source": [
    "img =  cv2.imread(img_path)"
   ]
  },
  {
   "cell_type": "code",
   "execution_count": 9,
   "id": "3fe7ed0e",
   "metadata": {},
   "outputs": [],
   "source": [
    "cv2.resize(img,(600,400))\n",
    "cv2.imshow('Tree Image ',img)\n",
    "\n",
    "cv2.waitKey(0)\n",
    "cv2.destroyAllWindows()"
   ]
  },
  {
   "cell_type": "code",
   "execution_count": 10,
   "id": "57d2956b",
   "metadata": {},
   "outputs": [],
   "source": [
    "import os"
   ]
  },
  {
   "cell_type": "code",
   "execution_count": 16,
   "id": "18e1a570",
   "metadata": {},
   "outputs": [
    {
     "data": {
      "text/plain": [
       "['986342_sat_65.jpg',\n",
       " '986342_sat_66.jpg',\n",
       " '986342_sat_67.jpg',\n",
       " '986342_sat_68.jpg',\n",
       " '986342_sat_72.jpg',\n",
       " '986342_sat_74.jpg',\n",
       " '986342_sat_75.jpg',\n",
       " '986342_sat_76.jpg']"
      ]
     },
     "execution_count": 16,
     "metadata": {},
     "output_type": "execute_result"
    }
   ],
   "source": [
    "img_paths = os.listdir(r'C:\\\\Users\\\\koustubh kulkarni\\\\Downloads\\\\CV') #os.listdir reads all the path present in that directory\n",
    "img_paths"
   ]
  },
  {
   "cell_type": "code",
   "execution_count": 20,
   "id": "acdfa703",
   "metadata": {},
   "outputs": [],
   "source": [
    "dir_path ='C:\\\\Users\\\\koustubh kulkarni\\\\Downloads\\\\CV'\n",
    "for src in img_paths:\n",
    "    curr_img = cv2.imread(dir_path+'\\\\'+src)\n",
    "    curr_img = cv2.resize(curr_img,(400,300))\n",
    "    cv2.imshow('Image',curr_img)\n",
    "    cv2.waitKey(1)\n",
    "    \n",
    "cv2.destroyAllWindows()"
   ]
  },
  {
   "cell_type": "code",
   "execution_count": null,
   "id": "d66558a3",
   "metadata": {},
   "outputs": [],
   "source": []
  },
  {
   "cell_type": "code",
   "execution_count": 21,
   "id": "46755e52",
   "metadata": {},
   "outputs": [],
   "source": [
    "import numpy as np\n"
   ]
  },
  {
   "cell_type": "code",
   "execution_count": 27,
   "id": "965e56e9",
   "metadata": {},
   "outputs": [],
   "source": [
    "for src in img_paths:\n",
    "    curr_img = cv2.imread(dir_path+'\\\\'+src)\n",
    "    curr_img = cv2.resize(curr_img,(200,100))\n",
    "    img2 = np.hstack((curr_img,curr_img))\n",
    "    img3 = np.vstack((img2,img2))\n",
    "    cv2.imshow('Image',img3)\n",
    "    cv2.waitKey(0)\n",
    "cv2.destroyAllWindows()"
   ]
  },
  {
   "cell_type": "code",
   "execution_count": null,
   "id": "ca9ada70",
   "metadata": {},
   "outputs": [],
   "source": []
  }
 ],
 "metadata": {
  "kernelspec": {
   "display_name": "Python 3 (ipykernel)",
   "language": "python",
   "name": "python3"
  },
  "language_info": {
   "codemirror_mode": {
    "name": "ipython",
    "version": 3
   },
   "file_extension": ".py",
   "mimetype": "text/x-python",
   "name": "python",
   "nbconvert_exporter": "python",
   "pygments_lexer": "ipython3",
   "version": "3.11.4"
  }
 },
 "nbformat": 4,
 "nbformat_minor": 5
}
