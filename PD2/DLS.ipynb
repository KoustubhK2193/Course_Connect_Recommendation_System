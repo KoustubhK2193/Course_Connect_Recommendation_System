{
 "cells": [
  {
   "cell_type": "code",
   "execution_count": 1,
   "id": "dae3c75b",
   "metadata": {},
   "outputs": [],
   "source": [
    "A='A'\n",
    "B='B'\n",
    "C='C'\n",
    "D='D'\n",
    "E='E'\n",
    "F='F'\n",
    "G='G'\n",
    "H='H'\n"
   ]
  },
  {
   "cell_type": "code",
   "execution_count": 2,
   "id": "5f879aee",
   "metadata": {},
   "outputs": [],
   "source": [
    "graph = {A:[B,C],B:[D,E],C:[F],D:[G,H],E:{},F:{},G:{},H:{}}"
   ]
  },
  {
   "cell_type": "code",
   "execution_count": 3,
   "id": "f5ddd972",
   "metadata": {},
   "outputs": [],
   "source": [
    "def getchild(a):\n",
    "    return graph[A]"
   ]
  },
  {
   "cell_type": "code",
   "execution_count": 4,
   "id": "2f284b43",
   "metadata": {},
   "outputs": [
    {
     "data": {
      "text/plain": [
       "['B', 'C']"
      ]
     },
     "execution_count": 4,
     "metadata": {},
     "output_type": "execute_result"
    }
   ],
   "source": [
    "getchild(A)"
   ]
  },
  {
   "cell_type": "code",
   "execution_count": 20,
   "id": "6abade15",
   "metadata": {},
   "outputs": [],
   "source": [
    "def dls(depth,graph,visited,openlist,curr,goal):\n",
    "    if depth==0:\n",
    "        return \n",
    "    visited.append(curr)\n",
    "    pora = getchild(curr)\n",
    "    if goal in pora:\n",
    "        visited.append(goal)\n",
    "        print(visited)\n",
    "        return True\n",
    "    else :\n",
    "        depth=depth-1\n",
    "        for a in pora :\n",
    "            if a not in openlist:\n",
    "                openlist.append(a)\n",
    "        for i in openlist :\n",
    "            if i in visited:\n",
    "                openlist.remove(i)\n",
    "        for a in openlist :\n",
    "            if a not in visited:\n",
    "                ans = dls(depth,graph,visited,openlist,a,goal)\n",
    "                openlist.remove(a)\n",
    "                visited.append(a)\n",
    "                if ans == True:\n",
    "                    return;\n",
    "                    break;\n",
    "        \n",
    "    "
   ]
  },
  {
   "cell_type": "code",
   "execution_count": 21,
   "id": "aca1e3af",
   "metadata": {},
   "outputs": [
    {
     "ename": "ValueError",
     "evalue": "list.remove(x): x not in list",
     "output_type": "error",
     "traceback": [
      "\u001b[1;31m---------------------------------------------------------------------------\u001b[0m",
      "\u001b[1;31mValueError\u001b[0m                                Traceback (most recent call last)",
      "Cell \u001b[1;32mIn[21], line 3\u001b[0m\n\u001b[0;32m      1\u001b[0m visited\u001b[38;5;241m=\u001b[39m[]\n\u001b[0;32m      2\u001b[0m openlist\u001b[38;5;241m=\u001b[39m[]\n\u001b[1;32m----> 3\u001b[0m \u001b[43mdls\u001b[49m\u001b[43m(\u001b[49m\u001b[38;5;241;43m2\u001b[39;49m\u001b[43m,\u001b[49m\u001b[43mgraph\u001b[49m\u001b[43m,\u001b[49m\u001b[43mvisited\u001b[49m\u001b[43m,\u001b[49m\u001b[43mopenlist\u001b[49m\u001b[43m,\u001b[49m\u001b[43mA\u001b[49m\u001b[43m,\u001b[49m\u001b[43mE\u001b[49m\u001b[43m)\u001b[49m\n",
      "Cell \u001b[1;32mIn[20], line 21\u001b[0m, in \u001b[0;36mdls\u001b[1;34m(depth, graph, visited, openlist, curr, goal)\u001b[0m\n\u001b[0;32m     19\u001b[0m \u001b[38;5;28;01mif\u001b[39;00m a \u001b[38;5;129;01mnot\u001b[39;00m \u001b[38;5;129;01min\u001b[39;00m visited:\n\u001b[0;32m     20\u001b[0m     ans \u001b[38;5;241m=\u001b[39m dls(depth,graph,visited,openlist,a,goal)\n\u001b[1;32m---> 21\u001b[0m     \u001b[43mopenlist\u001b[49m\u001b[38;5;241;43m.\u001b[39;49m\u001b[43mremove\u001b[49m\u001b[43m(\u001b[49m\u001b[43ma\u001b[49m\u001b[43m)\u001b[49m\n\u001b[0;32m     22\u001b[0m     visited\u001b[38;5;241m.\u001b[39mappend(a)\n\u001b[0;32m     23\u001b[0m     \u001b[38;5;28;01mif\u001b[39;00m ans \u001b[38;5;241m==\u001b[39m \u001b[38;5;28;01mTrue\u001b[39;00m:\n",
      "\u001b[1;31mValueError\u001b[0m: list.remove(x): x not in list"
     ]
    }
   ],
   "source": [
    "visited=[]\n",
    "openlist=[]\n",
    "dls(2,graph,visited,openlist,A,E)\n"
   ]
  },
  {
   "cell_type": "code",
   "execution_count": null,
   "id": "ab424df4",
   "metadata": {},
   "outputs": [],
   "source": []
  },
  {
   "cell_type": "code",
   "execution_count": null,
   "id": "8bb35883",
   "metadata": {},
   "outputs": [],
   "source": []
  },
  {
   "cell_type": "code",
   "execution_count": null,
   "id": "3d9aadf5",
   "metadata": {},
   "outputs": [],
   "source": []
  }
 ],
 "metadata": {
  "kernelspec": {
   "display_name": "Python 3 (ipykernel)",
   "language": "python",
   "name": "python3"
  },
  "language_info": {
   "codemirror_mode": {
    "name": "ipython",
    "version": 3
   },
   "file_extension": ".py",
   "mimetype": "text/x-python",
   "name": "python",
   "nbconvert_exporter": "python",
   "pygments_lexer": "ipython3",
   "version": "3.10.6"
  }
 },
 "nbformat": 4,
 "nbformat_minor": 5
}
