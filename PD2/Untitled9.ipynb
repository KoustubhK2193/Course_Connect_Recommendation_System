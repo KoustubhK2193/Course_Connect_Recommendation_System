{
 "cells": [
  {
   "cell_type": "code",
   "execution_count": 1,
   "id": "293e8681",
   "metadata": {},
   "outputs": [],
   "source": [
    "import pandas as pd"
   ]
  },
  {
   "cell_type": "code",
   "execution_count": 3,
   "id": "ded1ae0e",
   "metadata": {},
   "outputs": [],
   "source": [
    "df = pd.read_csv('udemy.csv')"
   ]
  },
  {
   "cell_type": "code",
   "execution_count": 4,
   "id": "982cc20e",
   "metadata": {},
   "outputs": [
    {
     "data": {
      "text/plain": [
       "Index(['title', 'instructor', 'course_url', 'course_img', 'description',\n",
       "       'ratings', 'reviews_count', 'course_duration', 'lectures_count',\n",
       "       'level', 'students_count', 'platform', 'paid'],\n",
       "      dtype='object')"
      ]
     },
     "execution_count": 4,
     "metadata": {},
     "output_type": "execute_result"
    }
   ],
   "source": [
    "df.columns"
   ]
  },
  {
   "cell_type": "code",
   "execution_count": 14,
   "id": "7b3f30c3",
   "metadata": {},
   "outputs": [],
   "source": [
    "df['new']= df['ratings']+df['title']"
   ]
  },
  {
   "cell_type": "code",
   "execution_count": 15,
   "id": "708f6fa4",
   "metadata": {},
   "outputs": [
    {
     "data": {
      "text/plain": [
       "'Rating: 4.6 out of 52022 Complete Python Bootcamp From Zero to Hero in Python'"
      ]
     },
     "execution_count": 15,
     "metadata": {},
     "output_type": "execute_result"
    }
   ],
   "source": [
    "df['new'][0]"
   ]
  },
  {
   "cell_type": "code",
   "execution_count": null,
   "id": "7b048e7d",
   "metadata": {},
   "outputs": [],
   "source": []
  }
 ],
 "metadata": {
  "kernelspec": {
   "display_name": "Python 3 (ipykernel)",
   "language": "python",
   "name": "python3"
  },
  "language_info": {
   "codemirror_mode": {
    "name": "ipython",
    "version": 3
   },
   "file_extension": ".py",
   "mimetype": "text/x-python",
   "name": "python",
   "nbconvert_exporter": "python",
   "pygments_lexer": "ipython3",
   "version": "3.11.4"
  }
 },
 "nbformat": 4,
 "nbformat_minor": 5
}
