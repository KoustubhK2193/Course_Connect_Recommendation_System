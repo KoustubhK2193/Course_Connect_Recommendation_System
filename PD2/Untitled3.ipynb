{
 "cells": [
  {
   "cell_type": "code",
   "execution_count": 1,
   "id": "b1777e69",
   "metadata": {},
   "outputs": [],
   "source": [
    "start=[[1,2,3],[4,6,8],[5,'_',7]]"
   ]
  },
  {
   "cell_type": "code",
   "execution_count": 2,
   "id": "e06af836",
   "metadata": {},
   "outputs": [],
   "source": [
    "end=[[1,2,3],[4,5,6],[7,8,'_']]"
   ]
  },
  {
   "cell_type": "code",
   "execution_count": 4,
   "id": "7c3c4416",
   "metadata": {},
   "outputs": [],
   "source": [
    "def h(state):\n",
    "    count=0\n",
    "    for i in range(3):\n",
    "        for j in range(3):\n",
    "            if state[i][j]!=end[i][j]:\n",
    "                count=count+1\n",
    "    return count"
   ]
  },
  {
   "cell_type": "code",
   "execution_count": 5,
   "id": "de976c29",
   "metadata": {},
   "outputs": [
    {
     "data": {
      "text/plain": [
       "5"
      ]
     },
     "execution_count": 5,
     "metadata": {},
     "output_type": "execute_result"
    }
   ],
   "source": [
    "h(start)"
   ]
  },
  {
   "cell_type": "code",
   "execution_count": null,
   "id": "4edd830f",
   "metadata": {},
   "outputs": [],
   "source": [
    "def puzzle():\n",
    "    "
   ]
  }
 ],
 "metadata": {
  "kernelspec": {
   "display_name": "Python 3 (ipykernel)",
   "language": "python",
   "name": "python3"
  },
  "language_info": {
   "codemirror_mode": {
    "name": "ipython",
    "version": 3
   },
   "file_extension": ".py",
   "mimetype": "text/x-python",
   "name": "python",
   "nbconvert_exporter": "python",
   "pygments_lexer": "ipython3",
   "version": "3.10.6"
  }
 },
 "nbformat": 4,
 "nbformat_minor": 5
}
