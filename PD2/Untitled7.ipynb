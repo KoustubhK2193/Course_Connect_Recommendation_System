{
 "cells": [
  {
   "cell_type": "code",
   "execution_count": 1,
   "id": "b2d4b3ac",
   "metadata": {},
   "outputs": [],
   "source": [
    "import pandas as pd"
   ]
  },
  {
   "cell_type": "code",
   "execution_count": 2,
   "id": "ed52cd1f",
   "metadata": {},
   "outputs": [],
   "source": [
    "df = pd.read_csv('combined_data.csv')"
   ]
  },
  {
   "cell_type": "code",
   "execution_count": 3,
   "id": "cc7f7fce",
   "metadata": {},
   "outputs": [
    {
     "data": {
      "text/html": [
       "<div>\n",
       "<style scoped>\n",
       "    .dataframe tbody tr th:only-of-type {\n",
       "        vertical-align: middle;\n",
       "    }\n",
       "\n",
       "    .dataframe tbody tr th {\n",
       "        vertical-align: top;\n",
       "    }\n",
       "\n",
       "    .dataframe thead th {\n",
       "        text-align: right;\n",
       "    }\n",
       "</style>\n",
       "<table border=\"1\" class=\"dataframe\">\n",
       "  <thead>\n",
       "    <tr style=\"text-align: right;\">\n",
       "      <th></th>\n",
       "      <th>title</th>\n",
       "      <th>organization</th>\n",
       "      <th>course_certificate_type</th>\n",
       "      <th>course_duration</th>\n",
       "      <th>ratings</th>\n",
       "      <th>reviews_count</th>\n",
       "      <th>level</th>\n",
       "      <th>course_url</th>\n",
       "      <th>students_count</th>\n",
       "      <th>course_skills</th>\n",
       "      <th>course_summary</th>\n",
       "      <th>description</th>\n",
       "      <th>platform</th>\n",
       "      <th>course_img</th>\n",
       "      <th>paid</th>\n",
       "      <th>Type</th>\n",
       "      <th>Prerequisites</th>\n",
       "      <th>domain</th>\n",
       "      <th>instructor</th>\n",
       "      <th>lectures_count</th>\n",
       "    </tr>\n",
       "  </thead>\n",
       "  <tbody>\n",
       "    <tr>\n",
       "      <th>0</th>\n",
       "      <td>(ISC)² Systems Security Certified Practitioner...</td>\n",
       "      <td>NaN</td>\n",
       "      <td>NaN</td>\n",
       "      <td>3 - 6 Months</td>\n",
       "      <td>4.7</td>\n",
       "      <td>484</td>\n",
       "      <td>Beginner</td>\n",
       "      <td>https://www.coursera.org/specializations/sscp-...</td>\n",
       "      <td>6,706</td>\n",
       "      <td>NaN</td>\n",
       "      <td>NaN</td>\n",
       "      <td>Pursue better IT security job opportunities an...</td>\n",
       "      <td>Coursera</td>\n",
       "      <td>https://upload.wikimedia.org/wikipedia/commons...</td>\n",
       "      <td>Yes</td>\n",
       "      <td>NaN</td>\n",
       "      <td>NaN</td>\n",
       "      <td>NaN</td>\n",
       "      <td>NaN</td>\n",
       "      <td>NaN</td>\n",
       "    </tr>\n",
       "    <tr>\n",
       "      <th>1</th>\n",
       "      <td>.NET FullStack Developer</td>\n",
       "      <td>NaN</td>\n",
       "      <td>NaN</td>\n",
       "      <td>1 - 3 Months</td>\n",
       "      <td>4.3</td>\n",
       "      <td>49</td>\n",
       "      <td>Intermediate</td>\n",
       "      <td>https://www.coursera.org/specializations/dot-n...</td>\n",
       "      <td>2,140</td>\n",
       "      <td>NaN</td>\n",
       "      <td>NaN</td>\n",
       "      <td>Develop the proficiency required to design and...</td>\n",
       "      <td>Coursera</td>\n",
       "      <td>data:image/png;base64,iVBORw0KGgoAAAANSUhEUgAA...</td>\n",
       "      <td>Yes</td>\n",
       "      <td>NaN</td>\n",
       "      <td>NaN</td>\n",
       "      <td>NaN</td>\n",
       "      <td>NaN</td>\n",
       "      <td>NaN</td>\n",
       "    </tr>\n",
       "    <tr>\n",
       "      <th>2</th>\n",
       "      <td>21st Century Energy Transition: how do we make...</td>\n",
       "      <td>NaN</td>\n",
       "      <td>NaN</td>\n",
       "      <td>1 - 3 Months</td>\n",
       "      <td>4.8</td>\n",
       "      <td>59</td>\n",
       "      <td>Beginner</td>\n",
       "      <td>https://www.coursera.org/learn/21st-century-en...</td>\n",
       "      <td>4,282</td>\n",
       "      <td>NaN</td>\n",
       "      <td>NaN</td>\n",
       "      <td>Affordable, abundant and reliable energy is fu...</td>\n",
       "      <td>Coursera</td>\n",
       "      <td>https://www.ualberta.ca/media-library/ualberta...</td>\n",
       "      <td>Yes</td>\n",
       "      <td>NaN</td>\n",
       "      <td>NaN</td>\n",
       "      <td>NaN</td>\n",
       "      <td>NaN</td>\n",
       "      <td>NaN</td>\n",
       "    </tr>\n",
       "    <tr>\n",
       "      <th>3</th>\n",
       "      <td>A Crash Course in Causality:  Inferring Causal...</td>\n",
       "      <td>NaN</td>\n",
       "      <td>NaN</td>\n",
       "      <td>1 - 3 Months</td>\n",
       "      <td>4.7</td>\n",
       "      <td>515</td>\n",
       "      <td>Intermediate</td>\n",
       "      <td>https://www.coursera.org/learn/crash-course-in...</td>\n",
       "      <td>38,833</td>\n",
       "      <td>NaN</td>\n",
       "      <td>NaN</td>\n",
       "      <td>We have all heard the phrase “correlation does...</td>\n",
       "      <td>Coursera</td>\n",
       "      <td>https://upload.wikimedia.org/wikipedia/commons...</td>\n",
       "      <td>Yes</td>\n",
       "      <td>NaN</td>\n",
       "      <td>NaN</td>\n",
       "      <td>NaN</td>\n",
       "      <td>NaN</td>\n",
       "      <td>NaN</td>\n",
       "    </tr>\n",
       "    <tr>\n",
       "      <th>4</th>\n",
       "      <td>AI &amp; Law</td>\n",
       "      <td>NaN</td>\n",
       "      <td>NaN</td>\n",
       "      <td>1 - 4 Weeks</td>\n",
       "      <td>4.7</td>\n",
       "      <td>361</td>\n",
       "      <td>Beginner</td>\n",
       "      <td>https://www.coursera.org/learn/ai-law</td>\n",
       "      <td>25,442</td>\n",
       "      <td>NaN</td>\n",
       "      <td>NaN</td>\n",
       "      <td>About this Course\\nThis four-week course title...</td>\n",
       "      <td>Coursera</td>\n",
       "      <td>https://www.google.com/url?sa=i&amp;url=https%3A%2...</td>\n",
       "      <td>Yes</td>\n",
       "      <td>NaN</td>\n",
       "      <td>NaN</td>\n",
       "      <td>NaN</td>\n",
       "      <td>NaN</td>\n",
       "      <td>NaN</td>\n",
       "    </tr>\n",
       "  </tbody>\n",
       "</table>\n",
       "</div>"
      ],
      "text/plain": [
       "                                               title  organization  \\\n",
       "0  (ISC)² Systems Security Certified Practitioner...           NaN   \n",
       "1                           .NET FullStack Developer           NaN   \n",
       "2  21st Century Energy Transition: how do we make...           NaN   \n",
       "3  A Crash Course in Causality:  Inferring Causal...           NaN   \n",
       "4                                           AI & Law           NaN   \n",
       "\n",
       "   course_certificate_type course_duration ratings reviews_count  \\\n",
       "0                      NaN    3 - 6 Months     4.7           484   \n",
       "1                      NaN    1 - 3 Months     4.3            49   \n",
       "2                      NaN    1 - 3 Months     4.8            59   \n",
       "3                      NaN    1 - 3 Months     4.7           515   \n",
       "4                      NaN     1 - 4 Weeks     4.7           361   \n",
       "\n",
       "          level                                         course_url  \\\n",
       "0      Beginner  https://www.coursera.org/specializations/sscp-...   \n",
       "1  Intermediate  https://www.coursera.org/specializations/dot-n...   \n",
       "2      Beginner  https://www.coursera.org/learn/21st-century-en...   \n",
       "3  Intermediate  https://www.coursera.org/learn/crash-course-in...   \n",
       "4      Beginner              https://www.coursera.org/learn/ai-law   \n",
       "\n",
       "  students_count  course_skills  course_summary  \\\n",
       "0          6,706            NaN             NaN   \n",
       "1          2,140            NaN             NaN   \n",
       "2          4,282            NaN             NaN   \n",
       "3         38,833            NaN             NaN   \n",
       "4         25,442            NaN             NaN   \n",
       "\n",
       "                                         description  platform  \\\n",
       "0  Pursue better IT security job opportunities an...  Coursera   \n",
       "1  Develop the proficiency required to design and...  Coursera   \n",
       "2  Affordable, abundant and reliable energy is fu...  Coursera   \n",
       "3  We have all heard the phrase “correlation does...  Coursera   \n",
       "4  About this Course\\nThis four-week course title...  Coursera   \n",
       "\n",
       "                                          course_img paid Type Prerequisites  \\\n",
       "0  https://upload.wikimedia.org/wikipedia/commons...  Yes  NaN           NaN   \n",
       "1  data:image/png;base64,iVBORw0KGgoAAAANSUhEUgAA...  Yes  NaN           NaN   \n",
       "2  https://www.ualberta.ca/media-library/ualberta...  Yes  NaN           NaN   \n",
       "3  https://upload.wikimedia.org/wikipedia/commons...  Yes  NaN           NaN   \n",
       "4  https://www.google.com/url?sa=i&url=https%3A%2...  Yes  NaN           NaN   \n",
       "\n",
       "  domain instructor lectures_count  \n",
       "0    NaN        NaN            NaN  \n",
       "1    NaN        NaN            NaN  \n",
       "2    NaN        NaN            NaN  \n",
       "3    NaN        NaN            NaN  \n",
       "4    NaN        NaN            NaN  "
      ]
     },
     "execution_count": 3,
     "metadata": {},
     "output_type": "execute_result"
    }
   ],
   "source": [
    "df.head(5)"
   ]
  },
  {
   "cell_type": "code",
   "execution_count": 4,
   "id": "026ac1b5",
   "metadata": {},
   "outputs": [
    {
     "data": {
      "text/plain": [
       "(6214, 20)"
      ]
     },
     "execution_count": 4,
     "metadata": {},
     "output_type": "execute_result"
    }
   ],
   "source": [
    "df.shape"
   ]
  },
  {
   "cell_type": "code",
   "execution_count": 5,
   "id": "19794c29",
   "metadata": {},
   "outputs": [],
   "source": [
    "col = df.columns"
   ]
  },
  {
   "cell_type": "code",
   "execution_count": 6,
   "id": "e2531cfd",
   "metadata": {},
   "outputs": [
    {
     "data": {
      "text/plain": [
       "Index(['title', 'organization', 'course_certificate_type', 'course_duration',\n",
       "       'ratings', 'reviews_count', 'level', 'course_url', 'students_count',\n",
       "       'course_skills', 'course_summary', 'description', 'platform',\n",
       "       'course_img', 'paid', 'Type', 'Prerequisites', 'domain', 'instructor',\n",
       "       'lectures_count'],\n",
       "      dtype='object')"
      ]
     },
     "execution_count": 6,
     "metadata": {},
     "output_type": "execute_result"
    }
   ],
   "source": [
    "col"
   ]
  },
  {
   "cell_type": "code",
   "execution_count": 8,
   "id": "f74084b8",
   "metadata": {},
   "outputs": [
    {
     "data": {
      "text/plain": [
       "array(['4.7', '4.3', '4.8', '4.9', '4.2', '4.1', '4.6', '4.0', '4.5',\n",
       "       '4.4', '5.0', '3.9', '3.4', '2.7', '3.7', '3.3', nan,\n",
       "       'Rating: 4.6 out of 5', 'Rating: 4.7 out of 5',\n",
       "       'Rating: 4.5 out of 5', 'Rating: 4.8 out of 5',\n",
       "       'Rating: 4.4 out of 5', 'Rating: 4.3 out of 5',\n",
       "       'Rating: 4.2 out of 5', 'Rating: 4.1 out of 5',\n",
       "       'Rating: 3.5 out of 5', 'Rating: 3.9 out of 5',\n",
       "       'Rating: 4.0 out of 5', 'Rating: 3.8 out of 5',\n",
       "       'Rating: 3.2 out of 5', 'Rating: 3.6 out of 5', '399.99\"',\n",
       "       'Rating: 3.7 out of 5', 'Rating: 2.8 out of 5',\n",
       "       'Rating: 4.9 out of 5', 'Rating: 3.3 out of 5',\n",
       "       'Rating: 3.4 out of 5', 'Rating: 3.1 out of 5',\n",
       "       'Rating: 2.9 out of 5', 'Rating: 2.7 out of 5',\n",
       "       'Rating: 3.0 out of 5', 'Rating: 2.6 out of 5',\n",
       "       'Rating: 2.1 out of 5', 'Rating: 2.5 out of 5',\n",
       "       'Rating: 5.0 out of 5', 'Rating: 2.4 out of 5',\n",
       "       'Rating: 1.9 out of 5', 'Rating: 1.7 out of 5'], dtype=object)"
      ]
     },
     "execution_count": 8,
     "metadata": {},
     "output_type": "execute_result"
    }
   ],
   "source": [
    "df['ratings'].unique()"
   ]
  },
  {
   "cell_type": "code",
   "execution_count": 9,
   "id": "b24c3fd3",
   "metadata": {},
   "outputs": [],
   "source": [
    "s = 'Rating: 5.0 out of 5'"
   ]
  },
  {
   "cell_type": "code",
   "execution_count": 21,
   "id": "52fad968",
   "metadata": {},
   "outputs": [
    {
     "data": {
      "text/plain": [
       "20"
      ]
     },
     "execution_count": 21,
     "metadata": {},
     "output_type": "execute_result"
    }
   ],
   "source": [
    "dic =  s.split(' ')\n",
    "len(s)"
   ]
  },
  {
   "cell_type": "code",
   "execution_count": 14,
   "id": "33b677bc",
   "metadata": {},
   "outputs": [
    {
     "data": {
      "text/plain": [
       "5.0"
      ]
     },
     "execution_count": 14,
     "metadata": {},
     "output_type": "execute_result"
    }
   ],
   "source": [
    "float(dic[1])"
   ]
  },
  {
   "cell_type": "code",
   "execution_count": 15,
   "id": "2fc0c044",
   "metadata": {},
   "outputs": [],
   "source": [
    "backup = df"
   ]
  },
  {
   "cell_type": "code",
   "execution_count": 18,
   "id": "9759f1f5",
   "metadata": {},
   "outputs": [
    {
     "data": {
      "text/plain": [
       "str"
      ]
     },
     "execution_count": 18,
     "metadata": {},
     "output_type": "execute_result"
    }
   ],
   "source": [
    "type(df['ratings'][1])"
   ]
  },
  {
   "cell_type": "code",
   "execution_count": 23,
   "id": "8f634ef6",
   "metadata": {},
   "outputs": [
    {
     "ename": "TypeError",
     "evalue": "object of type 'float' has no len()",
     "output_type": "error",
     "traceback": [
      "\u001b[1;31m---------------------------------------------------------------------------\u001b[0m",
      "\u001b[1;31mTypeError\u001b[0m                                 Traceback (most recent call last)",
      "Cell \u001b[1;32mIn[23], line 12\u001b[0m\n\u001b[0;32m      9\u001b[0m     \u001b[38;5;28;01mreturn\u001b[39;00m \u001b[38;5;28mfloat\u001b[39m(value)\n\u001b[0;32m     11\u001b[0m \u001b[38;5;66;03m# Apply the function to the 'Rating' column and replace the values\u001b[39;00m\n\u001b[1;32m---> 12\u001b[0m df[\u001b[38;5;124m'\u001b[39m\u001b[38;5;124mratings\u001b[39m\u001b[38;5;124m'\u001b[39m] \u001b[38;5;241m=\u001b[39m df[\u001b[38;5;124m'\u001b[39m\u001b[38;5;124mratings\u001b[39m\u001b[38;5;124m'\u001b[39m]\u001b[38;5;241m.\u001b[39mapply(extract_and_convert)\n",
      "File \u001b[1;32m~\\anaconda3\\Lib\\site-packages\\pandas\\core\\series.py:4771\u001b[0m, in \u001b[0;36mSeries.apply\u001b[1;34m(self, func, convert_dtype, args, **kwargs)\u001b[0m\n\u001b[0;32m   4661\u001b[0m \u001b[38;5;28;01mdef\u001b[39;00m \u001b[38;5;21mapply\u001b[39m(\n\u001b[0;32m   4662\u001b[0m     \u001b[38;5;28mself\u001b[39m,\n\u001b[0;32m   4663\u001b[0m     func: AggFuncType,\n\u001b[1;32m   (...)\u001b[0m\n\u001b[0;32m   4666\u001b[0m     \u001b[38;5;241m*\u001b[39m\u001b[38;5;241m*\u001b[39mkwargs,\n\u001b[0;32m   4667\u001b[0m ) \u001b[38;5;241m-\u001b[39m\u001b[38;5;241m>\u001b[39m DataFrame \u001b[38;5;241m|\u001b[39m Series:\n\u001b[0;32m   4668\u001b[0m \u001b[38;5;250m    \u001b[39m\u001b[38;5;124;03m\"\"\"\u001b[39;00m\n\u001b[0;32m   4669\u001b[0m \u001b[38;5;124;03m    Invoke function on values of Series.\u001b[39;00m\n\u001b[0;32m   4670\u001b[0m \n\u001b[1;32m   (...)\u001b[0m\n\u001b[0;32m   4769\u001b[0m \u001b[38;5;124;03m    dtype: float64\u001b[39;00m\n\u001b[0;32m   4770\u001b[0m \u001b[38;5;124;03m    \"\"\"\u001b[39;00m\n\u001b[1;32m-> 4771\u001b[0m     \u001b[38;5;28;01mreturn\u001b[39;00m SeriesApply(\u001b[38;5;28mself\u001b[39m, func, convert_dtype, args, kwargs)\u001b[38;5;241m.\u001b[39mapply()\n",
      "File \u001b[1;32m~\\anaconda3\\Lib\\site-packages\\pandas\\core\\apply.py:1123\u001b[0m, in \u001b[0;36mSeriesApply.apply\u001b[1;34m(self)\u001b[0m\n\u001b[0;32m   1120\u001b[0m     \u001b[38;5;28;01mreturn\u001b[39;00m \u001b[38;5;28mself\u001b[39m\u001b[38;5;241m.\u001b[39mapply_str()\n\u001b[0;32m   1122\u001b[0m \u001b[38;5;66;03m# self.f is Callable\u001b[39;00m\n\u001b[1;32m-> 1123\u001b[0m \u001b[38;5;28;01mreturn\u001b[39;00m \u001b[38;5;28mself\u001b[39m\u001b[38;5;241m.\u001b[39mapply_standard()\n",
      "File \u001b[1;32m~\\anaconda3\\Lib\\site-packages\\pandas\\core\\apply.py:1174\u001b[0m, in \u001b[0;36mSeriesApply.apply_standard\u001b[1;34m(self)\u001b[0m\n\u001b[0;32m   1172\u001b[0m     \u001b[38;5;28;01melse\u001b[39;00m:\n\u001b[0;32m   1173\u001b[0m         values \u001b[38;5;241m=\u001b[39m obj\u001b[38;5;241m.\u001b[39mastype(\u001b[38;5;28mobject\u001b[39m)\u001b[38;5;241m.\u001b[39m_values\n\u001b[1;32m-> 1174\u001b[0m         mapped \u001b[38;5;241m=\u001b[39m lib\u001b[38;5;241m.\u001b[39mmap_infer(\n\u001b[0;32m   1175\u001b[0m             values,\n\u001b[0;32m   1176\u001b[0m             f,\n\u001b[0;32m   1177\u001b[0m             convert\u001b[38;5;241m=\u001b[39m\u001b[38;5;28mself\u001b[39m\u001b[38;5;241m.\u001b[39mconvert_dtype,\n\u001b[0;32m   1178\u001b[0m         )\n\u001b[0;32m   1180\u001b[0m \u001b[38;5;28;01mif\u001b[39;00m \u001b[38;5;28mlen\u001b[39m(mapped) \u001b[38;5;129;01mand\u001b[39;00m \u001b[38;5;28misinstance\u001b[39m(mapped[\u001b[38;5;241m0\u001b[39m], ABCSeries):\n\u001b[0;32m   1181\u001b[0m     \u001b[38;5;66;03m# GH#43986 Need to do list(mapped) in order to get treated as nested\u001b[39;00m\n\u001b[0;32m   1182\u001b[0m     \u001b[38;5;66;03m#  See also GH#25959 regarding EA support\u001b[39;00m\n\u001b[0;32m   1183\u001b[0m     \u001b[38;5;28;01mreturn\u001b[39;00m obj\u001b[38;5;241m.\u001b[39m_constructor_expanddim(\u001b[38;5;28mlist\u001b[39m(mapped), index\u001b[38;5;241m=\u001b[39mobj\u001b[38;5;241m.\u001b[39mindex)\n",
      "File \u001b[1;32m~\\anaconda3\\Lib\\site-packages\\pandas\\_libs\\lib.pyx:2924\u001b[0m, in \u001b[0;36mpandas._libs.lib.map_infer\u001b[1;34m()\u001b[0m\n",
      "Cell \u001b[1;32mIn[23], line 2\u001b[0m, in \u001b[0;36mextract_and_convert\u001b[1;34m(value)\u001b[0m\n\u001b[0;32m      1\u001b[0m \u001b[38;5;28;01mdef\u001b[39;00m \u001b[38;5;21mextract_and_convert\u001b[39m(value):\n\u001b[1;32m----> 2\u001b[0m     \u001b[38;5;28;01mif\u001b[39;00m \u001b[38;5;28mlen\u001b[39m(value) \u001b[38;5;241m==\u001b[39m \u001b[38;5;241m20\u001b[39m:\n\u001b[0;32m      3\u001b[0m         parts \u001b[38;5;241m=\u001b[39m \u001b[38;5;28mstr\u001b[39m(value)\u001b[38;5;241m.\u001b[39msplit()\n\u001b[0;32m      4\u001b[0m         \u001b[38;5;28;01mfor\u001b[39;00m part \u001b[38;5;129;01min\u001b[39;00m parts:\n",
      "\u001b[1;31mTypeError\u001b[0m: object of type 'float' has no len()"
     ]
    }
   ],
   "source": [
    "def extract_and_convert(value):\n",
    "    if len(value) == 20:\n",
    "        parts = str(value).split()\n",
    "        for part in parts:\n",
    "            try:\n",
    "                return float(part)\n",
    "            except ValueError:\n",
    "                continue\n",
    "    return float(value)\n",
    "\n",
    "# Apply the function to the 'Rating' column and replace the values\n",
    "df['ratings'] = df['ratings'].apply(extract_and_convert)"
   ]
  },
  {
   "cell_type": "code",
   "execution_count": 24,
   "id": "e8e4c13a",
   "metadata": {},
   "outputs": [],
   "source": [
    "def extract_and_convert(value):\n",
    "    if type(value)== str:\n",
    "        if len(value)==20:\n",
    "            dic = value.split(' ')\n",
    "            return dic[1]\n",
    "    else:\n",
    "        return value\n",
    "df['ratings'] = df['ratings'].apply(extract_and_convert)"
   ]
  },
  {
   "cell_type": "code",
   "execution_count": 26,
   "id": "c25967bf",
   "metadata": {},
   "outputs": [],
   "source": [
    "uni = df['ratings'].unique()"
   ]
  },
  {
   "cell_type": "code",
   "execution_count": 27,
   "id": "760ff524",
   "metadata": {},
   "outputs": [
    {
     "data": {
      "text/plain": [
       "array([None, nan, '4.6', '4.7', '4.5', '4.8', '4.4', '4.3', '4.2', '4.1',\n",
       "       '3.5', '3.9', '4.0', '3.8', '3.2', '3.6', '3.7', '2.8', '4.9',\n",
       "       '3.3', '3.4', '3.1', '2.9', '2.7', '3.0', '2.6', '2.1', '2.5',\n",
       "       '5.0', '2.4', '1.9', '1.7'], dtype=object)"
      ]
     },
     "execution_count": 27,
     "metadata": {},
     "output_type": "execute_result"
    }
   ],
   "source": [
    "uni"
   ]
  },
  {
   "cell_type": "code",
   "execution_count": 30,
   "id": "14f0fe0c",
   "metadata": {},
   "outputs": [],
   "source": [
    "df['ratings'] = pd.to_numeric(df['ratings'], errors='coerce')\n"
   ]
  },
  {
   "cell_type": "code",
   "execution_count": 31,
   "id": "4c47952a",
   "metadata": {},
   "outputs": [
    {
     "data": {
      "text/plain": [
       "array([nan, 4.6, 4.7, 4.5, 4.8, 4.4, 4.3, 4.2, 4.1, 3.5, 3.9, 4. , 3.8,\n",
       "       3.2, 3.6, 3.7, 2.8, 4.9, 3.3, 3.4, 3.1, 2.9, 2.7, 3. , 2.6, 2.1,\n",
       "       2.5, 5. , 2.4, 1.9, 1.7])"
      ]
     },
     "execution_count": 31,
     "metadata": {},
     "output_type": "execute_result"
    }
   ],
   "source": [
    "uni = df['ratings'].unique()\n",
    "uni"
   ]
  },
  {
   "cell_type": "code",
   "execution_count": 32,
   "id": "639c6428",
   "metadata": {},
   "outputs": [],
   "source": [
    "df['ratings'].fillna(df['ratings'].mean(),inplace=True)"
   ]
  },
  {
   "cell_type": "code",
   "execution_count": 33,
   "id": "016a27bf",
   "metadata": {},
   "outputs": [
    {
     "data": {
      "text/plain": [
       "0       4.305389\n",
       "1       4.305389\n",
       "2       4.305389\n",
       "3       4.305389\n",
       "4       4.305389\n",
       "          ...   \n",
       "6209    4.900000\n",
       "6210    3.600000\n",
       "6211    4.500000\n",
       "6212    3.800000\n",
       "6213    3.600000\n",
       "Name: ratings, Length: 6214, dtype: float64"
      ]
     },
     "execution_count": 33,
     "metadata": {},
     "output_type": "execute_result"
    }
   ],
   "source": [
    "df['ratings']"
   ]
  },
  {
   "cell_type": "code",
   "execution_count": 35,
   "id": "2517f9ba",
   "metadata": {},
   "outputs": [
    {
     "data": {
      "text/plain": [
       "(6214,)"
      ]
     },
     "execution_count": 35,
     "metadata": {},
     "output_type": "execute_result"
    }
   ],
   "source": [
    "df['students_count'].shape"
   ]
  },
  {
   "cell_type": "code",
   "execution_count": 36,
   "id": "94573ed7",
   "metadata": {},
   "outputs": [
    {
     "data": {
      "text/plain": [
       "array(['6,706', '2,140', '4,282', ..., '1,102 students',\n",
       "       '45,245 students', '4,653 students'], dtype=object)"
      ]
     },
     "execution_count": 36,
     "metadata": {},
     "output_type": "execute_result"
    }
   ],
   "source": [
    "df['students_count'].unique()"
   ]
  },
  {
   "cell_type": "code",
   "execution_count": 37,
   "id": "62d3b1eb",
   "metadata": {},
   "outputs": [
    {
     "name": "stdout",
     "output_type": "stream",
     "text": [
      "                                                  title  organization  \\\n",
      "0     (ISC)² Systems Security Certified Practitioner...           NaN   \n",
      "1                              .NET FullStack Developer           NaN   \n",
      "2     21st Century Energy Transition: how do we make...           NaN   \n",
      "3     A Crash Course in Causality:  Inferring Causal...           NaN   \n",
      "4                                              AI & Law           NaN   \n",
      "...                                                 ...           ...   \n",
      "6209  Game Theory Algorithms in Competitive Programm...           NaN   \n",
      "6210  Siemens WinCC SCADA Programming, SCADA1 ( Basic )           NaN   \n",
      "6211  Python Object Oriented Programming (OOP): Begi...           NaN   \n",
      "6212                                jQuery Basics Guide           NaN   \n",
      "6213  Introduction to Android Development for beginners           NaN   \n",
      "\n",
      "      course_certificate_type  course_duration   ratings reviews_count  \\\n",
      "0                         NaN     3 - 6 Months  4.305389           484   \n",
      "1                         NaN     1 - 3 Months  4.305389            49   \n",
      "2                         NaN     1 - 3 Months  4.305389            59   \n",
      "3                         NaN     1 - 3 Months  4.305389           515   \n",
      "4                         NaN      1 - 4 Weeks  4.305389           361   \n",
      "...                       ...              ...       ...           ...   \n",
      "6209                      NaN    8 total hours  4.900000   124 reviews   \n",
      "6210                      NaN  2.5 total hours  3.600000   124 reviews   \n",
      "6211                      NaN   27 total hours  4.500000   124 reviews   \n",
      "6212                      NaN    4 total hours  3.800000   124 reviews   \n",
      "6213                      NaN    8 total hours  3.600000   124 reviews   \n",
      "\n",
      "             level                                         course_url  \\\n",
      "0         Beginner  https://www.coursera.org/specializations/sscp-...   \n",
      "1     Intermediate  https://www.coursera.org/specializations/dot-n...   \n",
      "2         Beginner  https://www.coursera.org/learn/21st-century-en...   \n",
      "3     Intermediate  https://www.coursera.org/learn/crash-course-in...   \n",
      "4         Beginner              https://www.coursera.org/learn/ai-law   \n",
      "...            ...                                                ...   \n",
      "6209    All Levels  https://www.udemy.com/course/game-theory-algor...   \n",
      "6210        Expert  https://www.udemy.com/course/siemens-wincc-scada/   \n",
      "6211    All Levels  https://www.udemy.com/course/object-oriented-p...   \n",
      "6212      Beginner   https://www.udemy.com/course/learn-basic-jquery/   \n",
      "6213      Beginner  https://www.udemy.com/course/introduction-to-a...   \n",
      "\n",
      "      students_count  course_skills  course_summary  \\\n",
      "0             6706.0            NaN             NaN   \n",
      "1             2140.0            NaN             NaN   \n",
      "2             4282.0            NaN             NaN   \n",
      "3            38833.0            NaN             NaN   \n",
      "4            25442.0            NaN             NaN   \n",
      "...              ...            ...             ...   \n",
      "6209          5087.0            NaN             NaN   \n",
      "6210           422.0            NaN             NaN   \n",
      "6211          1102.0            NaN             NaN   \n",
      "6212         45245.0            NaN             NaN   \n",
      "6213          4653.0            NaN             NaN   \n",
      "\n",
      "                                            description  platform  \\\n",
      "0     Pursue better IT security job opportunities an...  Coursera   \n",
      "1     Develop the proficiency required to design and...  Coursera   \n",
      "2     Affordable, abundant and reliable energy is fu...  Coursera   \n",
      "3     We have all heard the phrase “correlation does...  Coursera   \n",
      "4     About this Course\\nThis four-week course title...  Coursera   \n",
      "...                                                 ...       ...   \n",
      "6209  Dive deep into game theory algorithms, learn &...     Udemy   \n",
      "6210  This course is a great push for any one who wa...     Udemy   \n",
      "6211         Deep OOP Foundations From Absolute Scratch     Udemy   \n",
      "6212  Everything you need to know to Build a Retirem...     Udemy   \n",
      "6213    Create an Android App step by step from scratch     Udemy   \n",
      "\n",
      "                                             course_img paid Type  \\\n",
      "0     https://upload.wikimedia.org/wikipedia/commons...  Yes  NaN   \n",
      "1     data:image/png;base64,iVBORw0KGgoAAAANSUhEUgAA...  Yes  NaN   \n",
      "2     https://www.ualberta.ca/media-library/ualberta...  Yes  NaN   \n",
      "3     https://upload.wikimedia.org/wikipedia/commons...  Yes  NaN   \n",
      "4     https://www.google.com/url?sa=i&url=https%3A%2...  Yes  NaN   \n",
      "...                                                 ...  ...  ...   \n",
      "6209  https://img-b.udemycdn.com/course/240x135/3878...  Yes  NaN   \n",
      "6210  https://img-b.udemycdn.com/course/240x135/2858...  Yes  NaN   \n",
      "6211  https://img-b.udemycdn.com/course/240x135/4450...  Yes  NaN   \n",
      "6212  https://img-b.udemycdn.com/course/240x135/2554...  Yes  NaN   \n",
      "6213  https://img-b.udemycdn.com/course/240x135/1389...  Yes  NaN   \n",
      "\n",
      "     Prerequisites domain                   instructor lectures_count  \n",
      "0              NaN    NaN                          NaN            NaN  \n",
      "1              NaN    NaN                          NaN            NaN  \n",
      "2              NaN    NaN                          NaN            NaN  \n",
      "3              NaN    NaN                          NaN            NaN  \n",
      "4              NaN    NaN                          NaN            NaN  \n",
      "...            ...    ...                          ...            ...  \n",
      "6209           NaN    NaN  Apaar Kamal, Coding Minutes    41 lectures  \n",
      "6210           NaN    NaN            Serkan Büyüktopçu    17 lectures  \n",
      "6211           NaN    NaN                     Andy Bek   231 lectures  \n",
      "6212           NaN    NaN              Learn Tech Plus   102 lectures  \n",
      "6213           NaN    NaN  Bluelime Learning Solutions    71 lectures  \n",
      "\n",
      "[6214 rows x 20 columns]\n"
     ]
    }
   ],
   "source": [
    "df['students_count'] = df['students_count'].str.replace(' students', '').str.replace(',', '')\n",
    "# df['students_count'] = df['students_count'].str.replace(',', '').str.replace(',', '')\n",
    "\n",
    "# Convert 'Column_Name' to float\n",
    "df['students_count'] = pd.to_numeric(df['students_count'], errors='coerce')\n",
    "\n",
    "print(df)"
   ]
  },
  {
   "cell_type": "code",
   "execution_count": 38,
   "id": "ca6c5087",
   "metadata": {},
   "outputs": [
    {
     "data": {
      "text/plain": [
       "array([ 6706.,  2140.,  4282., ...,  1102., 45245.,  4653.])"
      ]
     },
     "execution_count": 38,
     "metadata": {},
     "output_type": "execute_result"
    }
   ],
   "source": [
    "df['students_count'].unique()"
   ]
  },
  {
   "cell_type": "code",
   "execution_count": 39,
   "id": "f30ea617",
   "metadata": {},
   "outputs": [],
   "source": [
    "backup2 = df"
   ]
  },
  {
   "cell_type": "code",
   "execution_count": 40,
   "id": "facf577e",
   "metadata": {},
   "outputs": [
    {
     "data": {
      "text/plain": [
       "268"
      ]
     },
     "execution_count": 40,
     "metadata": {},
     "output_type": "execute_result"
    }
   ],
   "source": [
    "df['students_count'].isnull().sum()"
   ]
  },
  {
   "cell_type": "code",
   "execution_count": 41,
   "id": "9443f53f",
   "metadata": {},
   "outputs": [],
   "source": [
    "df['students_count'].fillna(df['students_count'].mean(),inplace=True)"
   ]
  },
  {
   "cell_type": "code",
   "execution_count": 42,
   "id": "a8eb8ff1",
   "metadata": {},
   "outputs": [
    {
     "data": {
      "text/plain": [
       "0"
      ]
     },
     "execution_count": 42,
     "metadata": {},
     "output_type": "execute_result"
    }
   ],
   "source": [
    "df['students_count'].isnull().sum()"
   ]
  },
  {
   "cell_type": "code",
   "execution_count": 44,
   "id": "3fec6e99",
   "metadata": {},
   "outputs": [],
   "source": [
    "df['ratings'] = df['ratings']\n",
    "m = 1000\n",
    "\n",
    "# Calculate overall average rating 'C'\n",
    "C = df['ratings'].mean()\n",
    "\n",
    "# Calculate Bayesian Average and add a new column 'Bayesian_Average'\n",
    "df['Bayesian_Average'] = (df['students_count'] / (df['students_count'] + m)) * df['ratings'] + (m / (df['students_count'] + m)) * C\n",
    "\n",
    "\n"
   ]
  },
  {
   "cell_type": "code",
   "execution_count": 45,
   "id": "45330090",
   "metadata": {},
   "outputs": [
    {
     "data": {
      "text/plain": [
       "0       4.305389\n",
       "1       4.305389\n",
       "2       4.305389\n",
       "3       4.305389\n",
       "4       4.305389\n",
       "          ...   \n",
       "6209    4.802315\n",
       "6210    4.096054\n",
       "6211    4.407416\n",
       "6212    3.810929\n",
       "6213    3.724781\n",
       "Name: Bayesian_Average, Length: 6214, dtype: float64"
      ]
     },
     "execution_count": 45,
     "metadata": {},
     "output_type": "execute_result"
    }
   ],
   "source": [
    "df['Bayesian_Average']"
   ]
  },
  {
   "cell_type": "code",
   "execution_count": 46,
   "id": "11ddd57e",
   "metadata": {},
   "outputs": [
    {
     "name": "stdout",
     "output_type": "stream",
     "text": [
      "                                                  title  organization  \\\n",
      "6159  Build A Blog Using AspNet Core, Angular 14 And...           NaN   \n",
      "4425        Lambda with Functional Programming in Java8           NaN   \n",
      "5004     WP Plugin Development - Build your own plugin!           NaN   \n",
      "2150  Running a Web Development Business: The Comple...           NaN   \n",
      "5453  Front End Web Development Niche Website Comple...           NaN   \n",
      "2005  Learn WordPress & Using WordPress to Make Mone...           NaN   \n",
      "2275                              C# .NET For Beginners           NaN   \n",
      "2003  Python 3: Deep Dive (Part 2 - Iteration, Gener...           NaN   \n",
      "4567      Learn Java Programming - Beginners guide 2022           NaN   \n",
      "2524  Machine Learning and AI: Support Vector Machin...           NaN   \n",
      "6078             Python 3: From ZERO to GUI programming           NaN   \n",
      "2384           Python 3: Deep Dive (Part 3 - Hash Maps)           NaN   \n",
      "2212        How To Get A Job In The Video Game Industry           NaN   \n",
      "3894                         Test your Core Java skills           NaN   \n",
      "4917  Build An MP3 Player With Python And TKinter GU...           NaN   \n",
      "5945  The Art of Doing: Dive Into Android Developmen...           NaN   \n",
      "3831  The Ultimate iOS 11 & Swift 4 Course. Learn to...           NaN   \n",
      "5106  Complete SQL Bootcamp With MySQL - SQL Intervi...           NaN   \n",
      "3790                         CSS - MASTERING ANIMATIONS           NaN   \n",
      "5988  Bash Shell Programming for Data Sciences: Anim...           NaN   \n",
      "\n",
      "      course_certificate_type   course_duration  ratings reviews_count  \\\n",
      "6159                      NaN    16 total hours      5.0   127 reviews   \n",
      "4425                      NaN  10.5 total hours      4.9   265 reviews   \n",
      "5004                      NaN     4 total hours      4.9   202 reviews   \n",
      "2150                      NaN  19.5 total hours      4.9  1599 reviews   \n",
      "5453                      NaN    10 total hours      4.9   167 reviews   \n",
      "2005                      NaN   6.5 total hours      4.9  1974 reviews   \n",
      "2275                      NaN     4 total hours      4.9  1372 reviews   \n",
      "2003                      NaN    36 total hours      4.9  1981 reviews   \n",
      "4567                      NaN     4 total hours      4.9   249 reviews   \n",
      "2524                      NaN     9 total hours      4.9  1043 reviews   \n",
      "6078                      NaN   9.5 total hours      4.9   130 reviews   \n",
      "2384                      NaN    22 total hours      4.9  1220 reviews   \n",
      "2212                      NaN   6.5 total hours      4.9  1478 reviews   \n",
      "3894                      NaN     139 questions      4.9   357 reviews   \n",
      "4917                      NaN     3 total hours      4.9   210 reviews   \n",
      "5945                      NaN    17 total hours      4.9   137 reviews   \n",
      "3831                      NaN    70 total hours      4.9   373 reviews   \n",
      "5106                      NaN  21.5 total hours      4.9   192 reviews   \n",
      "3790                      NaN     2 total hours      4.9   382 reviews   \n",
      "5988                      NaN     7 total hours      4.9   135 reviews   \n",
      "\n",
      "                        level  \\\n",
      "6159                 Beginner   \n",
      "4425             Intermediate   \n",
      "5004                 Beginner   \n",
      "2150               All Levels   \n",
      "5453               All Levels   \n",
      "2005               All Levels   \n",
      "2275                 Beginner   \n",
      "2003             Intermediate   \n",
      "4567                 Beginner   \n",
      "2524                   Expert   \n",
      "6078                 Beginner   \n",
      "2384             Intermediate   \n",
      "2212               All Levels   \n",
      "3894  Current price: E£199.99   \n",
      "4917             Intermediate   \n",
      "5945                 Beginner   \n",
      "3831                 Beginner   \n",
      "5106               All Levels   \n",
      "3790                 Beginner   \n",
      "5988                 Beginner   \n",
      "\n",
      "                                             course_url  students_count  \\\n",
      "6159  https://www.udemy.com/course/learn-web-develop...         10642.0   \n",
      "4425  https://www.udemy.com/course/lambda-with-funct...         43245.0   \n",
      "5004  https://www.udemy.com/course/wp-plugin-develop...         35554.0   \n",
      "2150  https://www.udemy.com/course/the-complete-guid...         33360.0   \n",
      "5453  https://www.udemy.com/course/front-end-web-dev...         32271.0   \n",
      "2005  https://www.udemy.com/course/learn-wordpress-u...         26872.0   \n",
      "2275  https://www.udemy.com/course/c-net-for-beginners/         26631.0   \n",
      "2003  https://www.udemy.com/course/python-3-deep-div...         26309.0   \n",
      "4567  https://www.udemy.com/course/learn-java-progra...         24214.0   \n",
      "2524  https://www.udemy.com/course/support-vector-ma...         23016.0   \n",
      "6078  https://www.udemy.com/course/python-3-from-zer...         20797.0   \n",
      "2384  https://www.udemy.com/course/python-3-deep-div...         20423.0   \n",
      "2212     https://www.udemy.com/course/gameindustryjobs/         19831.0   \n",
      "3894         https://www.udemy.com/course/testcorejava/         18745.0   \n",
      "4917  https://www.udemy.com/course/build-an-mp3-play...         18195.0   \n",
      "5945  https://www.udemy.com/course/the-art-of-doing-...         17402.0   \n",
      "3831        https://www.udemy.com/course/ios11tutorial/         16824.0   \n",
      "5106  https://www.udemy.com/course/practical-sql-mas...         16433.0   \n",
      "3790  https://www.udemy.com/course/css-mastering-ani...         15661.0   \n",
      "5988  https://www.udemy.com/course/hello-big-data-at...         13671.0   \n",
      "\n",
      "      course_skills  ...                                        description  \\\n",
      "6159            NaN  ...  Use Angular, Bootstrap, Asp.Net Core, SQL Serv...   \n",
      "4425            NaN  ...  Lambda expression with Functional Programming ...   \n",
      "5004            NaN  ...  Learn to create your own WordPress Plugin - St...   \n",
      "2150            NaN  ...  Learn how to start and grow a successful web d...   \n",
      "5453            NaN  ...  Front End Web Development Niche Website Comple...   \n",
      "2005            NaN  ...  Learn WordPress & Make 6 Figures Online with W...   \n",
      "2275            NaN  ...  An introduction to programming using C# and Mi...   \n",
      "2003            NaN  ...  Sequences, Iterables, Iterators, Generators, C...   \n",
      "4567            NaN  ...  Learn Java Programming And Become a Software D...   \n",
      "2524            NaN  ...  Artificial Intelligence and Data Science Algor...   \n",
      "6078            NaN  ...  Start your journey with Python 3 without any p...   \n",
      "2384            NaN  ...    Dictionaries, Sets, and Related Data Structures   \n",
      "2212            NaN  ...  Create a Winning Resume, Portfolio, LinkedIn P...   \n",
      "3894            NaN  ...  139 multiple choice questions to test your Cor...   \n",
      "4917            NaN  ...  Build Graphical User Interface Apps with Pytho...   \n",
      "5945            NaN  ...  Master the fundamentals and begin your journey...   \n",
      "3831            NaN  ...  A Beginner's Guide to Xcode 9, Swift 4.0, ARKi...   \n",
      "5106            NaN  ...  Learn Complete SQL - SQL Beginner to Advanced ...   \n",
      "3790            NaN  ...  Make your web page alive with css animations &...   \n",
      "5988            NaN  ...  Innovative Project-based Animated Linux Comman...   \n",
      "\n",
      "     platform                                         course_img paid Type  \\\n",
      "6159    Udemy  https://img-b.udemycdn.com/course/240x135/2896...  Yes  NaN   \n",
      "4425    Udemy  https://img-b.udemycdn.com/course/240x135/2745...  Yes  NaN   \n",
      "5004    Udemy  data:image/svg+xml,%3Csvg xmlns=\"http://www.w3...  Yes  NaN   \n",
      "2150    Udemy  https://img-b.udemycdn.com/course/240x135/3696...  Yes  NaN   \n",
      "5453    Udemy  https://img-b.udemycdn.com/course/240x135/3964...  Yes  NaN   \n",
      "2005    Udemy  https://img-b.udemycdn.com/course/240x135/4278...  Yes  NaN   \n",
      "2275    Udemy  https://img-b.udemycdn.com/course/240x135/2199...  Yes  NaN   \n",
      "2003    Udemy  https://img-b.udemycdn.com/course/240x135/1647...  Yes  NaN   \n",
      "4567    Udemy  https://img-b.udemycdn.com/course/240x135/2404...  Yes  NaN   \n",
      "2524    Udemy  https://img-b.udemycdn.com/course/240x135/2020...  Yes  NaN   \n",
      "6078    Udemy  https://img-b.udemycdn.com/course/240x135/2433...  Yes  NaN   \n",
      "2384    Udemy  https://img-b.udemycdn.com/course/240x135/1887...  Yes  NaN   \n",
      "2212    Udemy  https://img-b.udemycdn.com/course/240x135/9863...  Yes  NaN   \n",
      "3894    Udemy  https://img-b.udemycdn.com/course/240x135/1441...  Yes  NaN   \n",
      "4917    Udemy  https://img-b.udemycdn.com/course/240x135/3359...  Yes  NaN   \n",
      "5945    Udemy  https://img-b.udemycdn.com/course/240x135/3884...  Yes  NaN   \n",
      "3831    Udemy  https://img-b.udemycdn.com/course/240x135/1296...  Yes  NaN   \n",
      "5106    Udemy  https://img-b.udemycdn.com/course/240x135/3350...  Yes  NaN   \n",
      "3790    Udemy  https://img-b.udemycdn.com/course/240x135/1726...  Yes  NaN   \n",
      "5988    Udemy  https://img-b.udemycdn.com/course/240x135/1124...  Yes  NaN   \n",
      "\n",
      "     Prerequisites domain                                         instructor  \\\n",
      "6159           NaN    NaN                                   Avetis Ghukasyan   \n",
      "4425           NaN    NaN                                       Arun Ammasai   \n",
      "5004           NaN    NaN        Stefan Haberl, Daniel Angeloff, Sandor Kiss   \n",
      "2150           NaN    NaN                                      Evan Kimbrell   \n",
      "5453           NaN    NaN                                    Muhammad Ismail   \n",
      "2005           NaN    NaN                                    Zeeshan Hussain   \n",
      "2275           NaN    NaN                                      Rick Phillips   \n",
      "2003           NaN    NaN                                      Fred Baptiste   \n",
      "4567           NaN    NaN                                       Mark Nielsen   \n",
      "2524           NaN    NaN                               Lazy Programmer Inc.   \n",
      "6078           NaN    NaN                        LearningWhilePracticing LWP   \n",
      "2384           NaN    NaN                                      Fred Baptiste   \n",
      "2212           NaN    NaN                     Rick Davidson, GameDev.tv Team   \n",
      "3894           NaN    NaN                                     Udayan Khattry   \n",
      "4917           NaN    NaN                                         John Elder   \n",
      "5945           NaN    NaN                                      Michael Eramo   \n",
      "3831           NaN    NaN                     Mammoth Interactive, John Bura   \n",
      "5106           NaN    NaN                                    Prashant Munshi   \n",
      "3790           NaN    NaN                                      Driss Boumlik   \n",
      "5988           NaN    NaN  Scientific Programmer™ Team, Scientific Progra...   \n",
      "\n",
      "     lectures_count Bayesian_Average  \n",
      "6159    96 lectures         4.940336  \n",
      "4425    72 lectures         4.886561  \n",
      "5004    24 lectures         4.883733  \n",
      "2150    99 lectures         4.882695  \n",
      "5453    97 lectures         4.882128  \n",
      "2005    76 lectures         4.878666  \n",
      "2275    19 lectures         4.878480  \n",
      "2003   141 lectures         4.878227  \n",
      "4567    49 lectures         4.876417  \n",
      "2524    73 lectures         4.875241  \n",
      "6078    84 lectures         4.872721  \n",
      "2384    84 lectures         4.872244  \n",
      "2212    48 lectures         4.871455  \n",
      "3894       Beginner         4.869886  \n",
      "4917    43 lectures         4.869023  \n",
      "5945    84 lectures         4.867688  \n",
      "3831   383 lectures         4.866640  \n",
      "5106   159 lectures         4.865892  \n",
      "3790    28 lectures         4.864311  \n",
      "5988   100 lectures         4.859470  \n",
      "\n",
      "[20 rows x 21 columns]\n"
     ]
    }
   ],
   "source": [
    "filtered_df = df[df['Bayesian_Average'] > 4.85]\n",
    "\n",
    "# Sort the filtered DataFrame in descending order\n",
    "sorted_df = filtered_df.sort_values(by='Bayesian_Average', ascending=False)\n",
    "\n",
    "# Get the top 20 rows\n",
    "top_20_rows = sorted_df.head(20)\n",
    "\n",
    "print(top_20_rows)"
   ]
  },
  {
   "cell_type": "code",
   "execution_count": 48,
   "id": "fb4c0d2f",
   "metadata": {},
   "outputs": [
    {
     "data": {
      "text/plain": [
       "'                                                             title  organization  course_certificate_type   course_duration  ratings reviews_count                    level                                                                                course_url  students_count  course_skills  course_summary                                                                                                               description platform                                                                                       course_img paid Type Prerequisites domain                                                  instructor lectures_count  Bayesian_Average\\n6159     Build A Blog Using AspNet Core, Angular 14 And SQL Server           NaN                      NaN    16 total hours      5.0   127 reviews                 Beginner                    https://www.udemy.com/course/learn-web-development-by-building-a-blog/         10642.0            NaN             NaN   Use Angular, Bootstrap, Asp.Net Core, SQL Server & learn full stack web development by building a blogging application.    Udemy                                       https://img-b.udemycdn.com/course/240x135/2896138_8024.jpg  Yes  NaN           NaN    NaN                                            Avetis Ghukasyan    96 lectures          4.940336\\n4425                   Lambda with Functional Programming in Java8           NaN                      NaN  10.5 total hours      4.9   265 reviews             Intermediate                  https://www.udemy.com/course/lambda-with-functional-programming-in-java/         43245.0            NaN             NaN                                                                     Lambda expression with Functional Programming Example    Udemy                                     https://img-b.udemycdn.com/course/240x135/2745650_cc33_4.jpg  Yes  NaN           NaN    NaN                                                Arun Ammasai    72 lectures          4.886561\\n5004                WP Plugin Development - Build your own plugin!           NaN                      NaN     4 total hours      4.9   202 reviews                 Beginner                 https://www.udemy.com/course/wp-plugin-development-build-your-own-plugin/         35554.0            NaN             NaN                                                                  Learn to create your own WordPress Plugin - Step by Step    Udemy  data:image/svg+xml,%3Csvg xmlns=\"http://www.w3.org/2000/svg\" viewBox=\"0 0 260 145\"%3E%3C/svg%3E  Yes  NaN           NaN    NaN                 Stefan Haberl, Daniel Angeloff, Sandor Kiss    24 lectures          4.883733\\n2150        Running a Web Development Business: The Complete Guide           NaN                      NaN  19.5 total hours      4.9  1599 reviews               All Levels    https://www.udemy.com/course/the-complete-guide-to-running-a-web-development-business/         33360.0            NaN             NaN     Learn how to start and grow a successful web development business. Get up & running and making sales in under a week.    Udemy                                      https://img-b.udemycdn.com/course/240x135/369662_7246_2.jpg  Yes  NaN           NaN    NaN                                               Evan Kimbrell    99 lectures          4.882695\\n5453      Front End Web Development Niche Website Complete Project           NaN                      NaN    10 total hours      4.9   167 reviews               All Levels    https://www.udemy.com/course/front-end-web-development-niche-website-complete-project/         32271.0            NaN             NaN              Front End Web Development Niche Website Complete Project Web Development Classifieds Websites  Niche Website    Udemy                                     https://img-b.udemycdn.com/course/240x135/3964308_e12d_3.jpg  Yes  NaN           NaN    NaN                                             Muhammad Ismail    97 lectures          4.882128\\n2005        Learn WordPress & Using WordPress to Make Money Online           NaN                      NaN   6.5 total hours      4.9  1974 reviews               All Levels    https://www.udemy.com/course/learn-wordpress-using-wordpress-to-make-6-figures-online/         26872.0            NaN             NaN          Learn WordPress & Make 6 Figures Online with WordPress – Watch Intro Lecture of this WordPress Web Design Course    Udemy                                     https://img-b.udemycdn.com/course/240x135/4278348_4d84_2.jpg  Yes  NaN           NaN    NaN                                             Zeeshan Hussain    76 lectures          4.878666\\n2275                                         C# .NET For Beginners           NaN                      NaN     4 total hours      4.9  1372 reviews                 Beginner                                         https://www.udemy.com/course/c-net-for-beginners/         26631.0            NaN             NaN                                                     An introduction to programming using C# and Microsoft\\'s .NET platform    Udemy                                     https://img-b.udemycdn.com/course/240x135/2199240_71fd_3.jpg  Yes  NaN           NaN    NaN                                               Rick Phillips    19 lectures          4.878480\\n2003          Python 3: Deep Dive (Part 2 - Iteration, Generators)           NaN                      NaN    36 total hours      4.9  1981 reviews             Intermediate                                   https://www.udemy.com/course/python-3-deep-dive-part-2/         26309.0            NaN             NaN                              Sequences, Iterables, Iterators, Generators, Context Managers and Generator-based Coroutines    Udemy                                     https://img-b.udemycdn.com/course/240x135/1647776_226e_2.jpg  Yes  NaN           NaN    NaN                                               Fred Baptiste   141 lectures          4.878227\\n4567                 Learn Java Programming - Beginners guide 2022           NaN                      NaN     4 total hours      4.9   249 reviews                 Beginner            https://www.udemy.com/course/learn-java-programming-from-beginner-to-pro-2020/         24214.0            NaN             NaN                                                                   Learn Java Programming And Become a Software Developer.    Udemy                                     https://img-b.udemycdn.com/course/240x135/2404700_b3cc_2.jpg  Yes  NaN           NaN    NaN                                                Mark Nielsen    49 lectures          4.876417\\n2524    Machine Learning and AI: Support Vector Machines in Python           NaN                      NaN     9 total hours      4.9  1043 reviews                   Expert                           https://www.udemy.com/course/support-vector-machines-in-python/         23016.0            NaN             NaN                           Artificial Intelligence and Data Science Algorithms in Python for Classification and Regression    Udemy                                     https://img-b.udemycdn.com/course/240x135/2020688_733c_2.jpg  Yes  NaN           NaN    NaN                                        Lazy Programmer Inc.    73 lectures          4.875241\\n6078                        Python 3: From ZERO to GUI programming           NaN                      NaN   9.5 total hours      4.9   130 reviews                 Beginner                       https://www.udemy.com/course/python-3-from-zero-to-gui-programming/         20797.0            NaN             NaN                        Start your journey with Python 3 without any prior knowledge and be Python operational right away!    Udemy                                       https://img-b.udemycdn.com/course/240x135/2433192_06ea.jpg  Yes  NaN           NaN    NaN                                 LearningWhilePracticing LWP    84 lectures          4.872721\\n2384                      Python 3: Deep Dive (Part 3 - Hash Maps)           NaN                      NaN    22 total hours      4.9  1220 reviews             Intermediate                                   https://www.udemy.com/course/python-3-deep-dive-part-3/         20423.0            NaN             NaN                                                                           Dictionaries, Sets, and Related Data Structures    Udemy                                       https://img-b.udemycdn.com/course/240x135/1887122_aae5.jpg  Yes  NaN           NaN    NaN                                               Fred Baptiste    84 lectures          4.872244\\n2212                   How To Get A Job In The Video Game Industry           NaN                      NaN   6.5 total hours      4.9  1478 reviews               All Levels                                            https://www.udemy.com/course/gameindustryjobs/         19831.0            NaN             NaN                 Create a Winning Resume, Portfolio, LinkedIn Profile & Job Application. Dominate Interviews & Networking.    Udemy                                     https://img-b.udemycdn.com/course/240x135/986308_ac87_10.jpg  Yes  NaN           NaN    NaN                              Rick Davidson, GameDev.tv Team    48 lectures          4.871455\\n3894                                    Test your Core Java skills           NaN                      NaN     139 questions      4.9   357 reviews  Current price: E£199.99                                                https://www.udemy.com/course/testcorejava/         18745.0            NaN             NaN                                                               139 multiple choice questions to test your Core Java skills    Udemy                                     https://img-b.udemycdn.com/course/240x135/1441478_04f1_6.jpg  Yes  NaN           NaN    NaN                                              Udayan Khattry       Beginner          4.869886\\n4917          Build An MP3 Player With Python And TKinter GUI Apps           NaN                      NaN     3 total hours      4.9   210 reviews             Intermediate        https://www.udemy.com/course/build-an-mp3-player-with-python-and-tkinter-gui-apps/         18195.0            NaN             NaN                                        Build Graphical User Interface Apps with Python and TKinter The Fast and Easy Way!    Udemy                                     https://img-b.udemycdn.com/course/240x135/3359670_8fa1_2.jpg  Yes  NaN           NaN    NaN                                                  John Elder    43 lectures          4.869023\\n5945   The Art of Doing: Dive Into Android Development with Kotlin           NaN                      NaN    17 total hours      4.9   137 reviews                 Beginner  https://www.udemy.com/course/the-art-of-doing-dive-into-android-development-with-kotlin/         17402.0            NaN             NaN                                Master the fundamentals and begin your journey into android application development today!    Udemy                                     https://img-b.udemycdn.com/course/240x135/3884466_8fbf_2.jpg  Yes  NaN           NaN    NaN                                               Michael Eramo    84 lectures          4.867688\\n3831    The Ultimate iOS 11 & Swift 4 Course. Learn to Build Apps!           NaN                      NaN    70 total hours      4.9   373 reviews                 Beginner                                               https://www.udemy.com/course/ios11tutorial/         16824.0            NaN             NaN    A Beginner\\'s Guide to Xcode 9, Swift 4.0, ARKit, Core ML, SpriteKit, WatchKit, and more. Design AND code from scratch.    Udemy                                     https://img-b.udemycdn.com/course/240x135/1296184_7d30_5.jpg  Yes  NaN           NaN    NaN                              Mammoth Interactive, John Bura   383 lectures          4.866640\\n5106  Complete SQL Bootcamp With MySQL - SQL Interview Masterclass           NaN                      NaN  21.5 total hours      4.9   192 reviews               All Levels                        https://www.udemy.com/course/practical-sql-masterclass-with-mysql/         16433.0            NaN             NaN                     Learn Complete SQL - SQL Beginner to Advanced With MySQL - Top 100+ SQL Interview Questions & Answers    Udemy                                     https://img-b.udemycdn.com/course/240x135/3350954_9933_3.jpg  Yes  NaN           NaN    NaN                                             Prashant Munshi   159 lectures          4.865892\\n3790                                    CSS - MASTERING ANIMATIONS           NaN                      NaN     2 total hours      4.9   382 reviews                 Beginner                                    https://www.udemy.com/course/css-mastering-animations/         15661.0            NaN             NaN              Make your web page alive with css animations & transitions and take your web design skills to the next level    Udemy                                     https://img-b.udemycdn.com/course/240x135/1726950_a9e4_2.jpg  Yes  NaN           NaN    NaN                                               Driss Boumlik    28 lectures          4.864311\\n5988     Bash Shell Programming for Data Sciences: Animated Course           NaN                      NaN     7 total hours      4.9   135 reviews                 Beginner                                      https://www.udemy.com/course/hello-big-data-at-bash/         13671.0            NaN             NaN  Innovative Project-based Animated Linux Command Line Masterclass: Bash Shell Programming  Data Mining Science- 7.5 Hours    Udemy                                    https://img-b.udemycdn.com/course/240x135/1124030_262f_41.jpg  Yes  NaN           NaN    NaN  Scientific Programmer™ Team, Scientific Programming School   100 lectures          4.859470'"
      ]
     },
     "execution_count": 48,
     "metadata": {},
     "output_type": "execute_result"
    }
   ],
   "source": [
    "top_20_rows.to_string()"
   ]
  },
  {
   "cell_type": "code",
   "execution_count": 49,
   "id": "5a82ac46",
   "metadata": {},
   "outputs": [],
   "source": [
    "top_20_rows.to_excel('top_20_rows.xlsx')"
   ]
  },
  {
   "cell_type": "code",
   "execution_count": 50,
   "id": "c8623cbf",
   "metadata": {},
   "outputs": [],
   "source": [
    "backup2.to_excel('backup2.xlsx')"
   ]
  },
  {
   "cell_type": "code",
   "execution_count": null,
   "id": "e16f295b",
   "metadata": {},
   "outputs": [],
   "source": []
  }
 ],
 "metadata": {
  "kernelspec": {
   "display_name": "Python 3 (ipykernel)",
   "language": "python",
   "name": "python3"
  },
  "language_info": {
   "codemirror_mode": {
    "name": "ipython",
    "version": 3
   },
   "file_extension": ".py",
   "mimetype": "text/x-python",
   "name": "python",
   "nbconvert_exporter": "python",
   "pygments_lexer": "ipython3",
   "version": "3.11.4"
  }
 },
 "nbformat": 4,
 "nbformat_minor": 5
}
